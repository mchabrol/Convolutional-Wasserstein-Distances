{
 "cells": [
  {
   "cell_type": "code",
   "execution_count": null,
   "metadata": {},
   "outputs": [],
   "source": [
    "import numpy as np"
   ]
  },
  {
   "cell_type": "markdown",
   "metadata": {},
   "source": [
    "The Wasserstein barycenter problem attempts to summarize a collection $(\\mu_i){_{i=1,...,n}}$ of probability distributions by taking their weighted average with respect to the Wasserstein distance. Following [Agueh and Carlier 2011], given a set of weights $\\alpha = (\\alpha_i){_{i=1,...,n}}$, it is defined as the following problem : \n",
    "\\begin{equation}\n",
    "\\min_{\\mu} \\sum_{i=1}^{k} \\alpha_i W_2^2(\\mu, \\mu_i)\n",
    "\\end{equation}"
   ]
  },
  {
   "cell_type": "code",
   "execution_count": 15,
   "metadata": {},
   "outputs": [],
   "source": [
    "from PIL import Image \n",
    "#charger une image \n",
    "\n",
    "def preprocess_image(image_path, new_size = (256, 256)):\n",
    "    image = Image.open(image_path).convert('L')\n",
    "    image = image.resize(new_size)\n",
    "    image = image / np.sum(image)  # Normalisation pour que la somme des pixels = 1\n",
    "    \n",
    "    return image"
   ]
  },
  {
   "cell_type": "code",
   "execution_count": 130,
   "metadata": {},
   "outputs": [],
   "source": [
    "def wasserstein_barycenter(mu, a,  Kernel, n_iter = 2000, alpha = None):\n",
    "    #v_i is in R^N\n",
    "    #v is in R^K*N with k the number of distributions\n",
    "    #mu is the array of distribution mu_1,..., mu_K and its shape is N*K\n",
    "    K = mu.shape[1]\n",
    "    N = mu.shape[0]\n",
    "    \n",
    "    if alpha == None:\n",
    "        alpha = np.ones(K)/K #poids uniformes \n",
    "    w = np.ones((N,K))\n",
    "    v = np.copy(w)\n",
    "    d = np.copy(w)\n",
    "    epsilon = 1e-19\n",
    "\n",
    "    for i in range(n_iter):\n",
    "        \n",
    "        # First step of the Bergman projection (onto C1)\n",
    "        target_mu = np.ones(N)\n",
    "        for i in range(K):\n",
    "            w[:,i] = mu[:,i]/(Kernel(a*v[:,i]) + epsilon)\n",
    "            #d[:,i] = v[:,i] * Kernel(a*w[:,i])\n",
    "            target_mu = target_mu * (v[:,i] * Kernel(a*w[:,i]))**alpha[i]\n",
    "                \n",
    "        # Second projection (onto C2)\n",
    "        for i in range(K):\n",
    "            v[:,i] =  v[:,i]*target_mu / (Kernel(a*w[:,i])+epsilon)\n",
    "            \n",
    "    return target_mu\n",
    "\n"
   ]
  },
  {
   "cell_type": "code",
   "execution_count": 134,
   "metadata": {},
   "outputs": [],
   "source": [
    "from scipy.ndimage import gaussian_filter\n",
    "entropy = 5\n",
    "sigma = 1\n",
    "f_heatkernel = lambda x : gaussian_filter(x, sigma = sigma/2)\n",
    "N = 256\n",
    "dirac1 = np.zeros(N)\n",
    "dirac2 = np.zeros(N)\n",
    "dirac1[20]= 1\n",
    "dirac2[150]= 1\n",
    "a = np.ones(N)/N\n",
    "\n",
    "\n",
    "barycenter_mu = wasserstein_barycenter(np.array([dirac1,dirac2]).T, a, f_heatkernel,alpha=[1/2,1/2],n_iter=500)\n"
   ]
  },
  {
   "cell_type": "code",
   "execution_count": null,
   "metadata": {},
   "outputs": [],
   "source": []
  }
 ],
 "metadata": {
  "kernelspec": {
   "display_name": "Python 3",
   "language": "python",
   "name": "python3"
  },
  "language_info": {
   "codemirror_mode": {
    "name": "ipython",
    "version": 3
   },
   "file_extension": ".py",
   "mimetype": "text/x-python",
   "name": "python",
   "nbconvert_exporter": "python",
   "pygments_lexer": "ipython3",
   "version": "3.12.0"
  }
 },
 "nbformat": 4,
 "nbformat_minor": 2
}
