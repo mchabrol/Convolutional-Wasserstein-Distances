{
 "cells": [
  {
   "cell_type": "code",
   "execution_count": 299,
   "metadata": {},
   "outputs": [],
   "source": [
    "from utils.image_treatment import preprocess_image\n",
    "import matplotlib.pyplot as plt\n",
    "import numpy as np\n",
    "import torch\n",
    "from PIL import Image\n",
    "from wasserstein.basic_wasserstein import compute_sliced_wass_barycenter\n",
    "import pyrtools as pt\n",
    "from tqdm import tqdm \n",
    "import pickle"
   ]
  },
  {
   "cell_type": "code",
   "execution_count": 333,
   "metadata": {},
   "outputs": [],
   "source": [
    "image_path1 = 'data/Fur.jpg'\n",
    "image_path2 = 'data/Red.jpg'"
   ]
  },
  {
   "cell_type": "code",
   "execution_count": 334,
   "metadata": {},
   "outputs": [],
   "source": [
    "image1 = preprocess_image(image_path1, new_size = (75,75))\n",
    "image2 = preprocess_image(image_path2, new_size = (75,75))\n",
    "textures = [image1, image2]"
   ]
  },
  {
   "cell_type": "code",
   "execution_count": 332,
   "metadata": {},
   "outputs": [],
   "source": [
    "def compute_sliced_wass_barycenter(distributions, rho = None, lr = 1e3, k = 200, nb_iter_max = 50, xbinit = None):\n",
    "\n",
    "    device = \"cuda\" if torch.cuda.is_available() else \"cpu\"\n",
    "\n",
    "    x_torch = [torch.tensor(x).to(device=device) for x in distributions]\n",
    "\n",
    "    if rho is None: \n",
    "        n = len(distributions)\n",
    "        rho = n*[1/n]\n",
    "    \n",
    "    if xbinit is None:\n",
    "        #xbinit = np.random.randn(500, 2) * 10 + 16 #initialization\n",
    "        xbinit = np.random.normal(0., 1., distributions[0].shape)\n",
    "    xbary_torch = torch.tensor(xbinit).to(device=device).requires_grad_(True)\n",
    "\n",
    "\n",
    "    x_all = np.zeros((nb_iter_max, xbary_torch.shape[0], xbary_torch.shape[1]))\n",
    "\n",
    "    loss_iter = []\n",
    "\n",
    "    # generator for random permutations\n",
    "    gen = torch.Generator(device=device)\n",
    "    gen.manual_seed(42)\n",
    "\n",
    "\n",
    "    for i in range(nb_iter_max):\n",
    "\n",
    "        loss = 0\n",
    "        for i, x in enumerate(x_torch):\n",
    "            loss += rho[i] * ot.sliced_wasserstein_distance(xbary_torch, x, n_projections=50, seed=gen)\n",
    "        loss_iter.append(loss.clone().detach().cpu().numpy())\n",
    "        loss.backward()\n",
    "\n",
    "        # performs a step of projected gradient descent\n",
    "        with torch.no_grad():\n",
    "            grad = xbary_torch.grad\n",
    "            xbary_torch -= grad * lr  # / (1 + i / 5e1)  # step\n",
    "            xbary_torch.grad.zero_()\n",
    "            x_all[i, :, :] = xbary_torch.clone().detach().cpu().numpy()\n",
    "\n",
    "    xb = xbary_torch.clone().detach().cpu().numpy()\n",
    "    return(xb)"
   ]
  },
  {
   "cell_type": "code",
   "execution_count": 335,
   "metadata": {},
   "outputs": [],
   "source": [
    "def compute_steerable_pyramid_coeffs(image, num_scales=4, num_orientations=4):\n",
    "    \"\"\"\n",
    "    Compute steerable pyramid coefficients with specified orientations using pyrtools.\n",
    "    \n",
    "    Parameters:\n",
    "    - image: 2D numpy array, input grayscale image.\n",
    "    - num_scales: int, number of scales.\n",
    "    - num_orientations: int, number of orientations.\n",
    "\n",
    "    Returns:\n",
    "    - coeffs: Dictionary of coefficients organized by scale and orientation.\n",
    "    \"\"\"\n",
    "    # Initialize the steerable pyramid\n",
    "    pyramid = pt.pyramids.SteerablePyramidFreq(image, height=num_scales, order=num_orientations-1)\n",
    "\n",
    "    return pyramid.pyr_coeffs, pyramid"
   ]
  },
  {
   "cell_type": "code",
   "execution_count": 336,
   "metadata": {},
   "outputs": [],
   "source": [
    "coef, pyr = compute_steerable_pyramid_coeffs(image1[:,:,1], num_scales=4, num_orientations=4)\n"
   ]
  },
  {
   "cell_type": "code",
   "execution_count": 337,
   "metadata": {},
   "outputs": [],
   "source": [
    "def compute_3D_wavelets_coeffs(image, num_scales=4, num_orientations=4):\n",
    "    \"\"\"\n",
    "    Compute wavelets coefficients (highpass, bandpass, low-residuals) for the 3 channels (R,G,B) of an image\n",
    "    \n",
    "    Parameters:\n",
    "    - image: 2D numpy array, input grayscale image.\n",
    "    - num_scales: int, number of scales.\n",
    "    - num_orientations: int, number of orientations.\n",
    "\n",
    "    Returns:\n",
    "    - wavelets_coeffs: Dictionary of coefficients organized by channel (R,G,B) and then by bandpass (highpass, bandpass -scale and orientation- and low residual).\n",
    "    \"\"\"\n",
    "    wavelets_coeffs = {}\n",
    "    rgb = ['R','G','B']\n",
    "    for channel in range(3):\n",
    "        wavelets_coeffs[rgb[channel]], _ = compute_steerable_pyramid_coeffs(image[:, :, channel], num_scales=num_scales, num_orientations=num_orientations)\n",
    "    return(wavelets_coeffs)"
   ]
  },
  {
   "cell_type": "code",
   "execution_count": 338,
   "metadata": {},
   "outputs": [],
   "source": [
    "def compute_wavelet_coeffs_barycenter(textures, num_scales=4, num_orientations=4):\n",
    "    \"\"\"\n",
    "    Compute the barycenter of wavelets coefficients --> Y^l (see page 9 in paper)\n",
    "    \n",
    "    Parameters:\n",
    "    - textures: 3D numpy array, input RGB image.\n",
    "    - num_scales: int, number of scales.\n",
    "    - num_orientations: int, number of orientations.\n",
    "\n",
    "    Returns:\n",
    "    - bar_wavelet_coeffs_RGB: Dictionary of barycenters of wavelets coefficients by channel (R,G,B) and then by highpass/bandpass/lowresidual\n",
    "    \"\"\"\n",
    "\n",
    "    bar_wavelet_coeffs = {}\n",
    "    bar_wavelet_coeffs_RGB = {}\n",
    "    RGB = ['R','G','B']\n",
    "    wavelets_coeffs = [compute_3D_wavelets_coeffs(image) for image in textures]\n",
    "\n",
    "    for rgb in RGB:\n",
    "        for k in wavelets_coeffs[0][rgb].keys():\n",
    "                distributions = [w[rgb][k].reshape(-1,1) for w in wavelets_coeffs] #reshape --> flattens the image to compute the barycenter\n",
    "                n = int(np.sqrt(distributions[0].shape[0]))\n",
    "                bar_wavelet_coeffs[k] = (compute_sliced_wass_barycenter(distributions, rho = None)).reshape(n, n)\n",
    "        bar_wavelet_coeffs_RGB[rgb] = bar_wavelet_coeffs\n",
    "    return(bar_wavelet_coeffs_RGB)"
   ]
  },
  {
   "cell_type": "code",
   "execution_count": 339,
   "metadata": {},
   "outputs": [],
   "source": [
    "#Y_l = compute_wavelet_coeffs_barycenter(textures, num_scales=4, num_orientations=4)"
   ]
  },
  {
   "cell_type": "code",
   "execution_count": 340,
   "metadata": {},
   "outputs": [],
   "source": [
    "with open('Yl.pkl', 'rb') as file:\n",
    "        # Loading the data from the pickle file\n",
    "        Y_l = pickle.load(file)"
   ]
  },
  {
   "cell_type": "code",
   "execution_count": 341,
   "metadata": {},
   "outputs": [],
   "source": [
    "def initialize_random_image(size=(256, 256), channels=3):\n",
    "    \"\"\"Initialize a random white noise image f^(0).\"\"\"\n",
    "    return np.random.rand(*size, channels)"
   ]
  },
  {
   "cell_type": "code",
   "execution_count": 342,
   "metadata": {},
   "outputs": [],
   "source": [
    "def projection(X0, Y):\n",
    "    \"\"\"\n",
    "    X0 : image a projeter \n",
    "    Y : ce sur quoi on veut projeter \n",
    "    \"\"\"\n",
    "    Y_distrib = [Y]\n",
    "    proj = compute_sliced_wass_barycenter(Y_distrib, rho = None, lr = 1e3, k = 200,  nb_iter_max = 50, xbinit = X0)\n",
    "    return(proj)"
   ]
  },
  {
   "cell_type": "code",
   "execution_count": 343,
   "metadata": {},
   "outputs": [],
   "source": [
    "def flatten_dict(d, parent_key='', sep='.'):\n",
    "    items = []\n",
    "    for k, v in d.items():\n",
    "        new_key = f\"{parent_key}{sep}{k}\" if parent_key else k\n",
    "        if isinstance(v, dict):\n",
    "            items.extend(flatten_dict(v, new_key, sep=sep).items())\n",
    "        else:\n",
    "            items.append((new_key, v))\n",
    "    return dict(items)"
   ]
  },
  {
   "cell_type": "code",
   "execution_count": 344,
   "metadata": {},
   "outputs": [],
   "source": [
    "def from_dict_to_RGB_array(dico):\n",
    "\n",
    "    output_dict = {}\n",
    "\n",
    "    # Extract unique filter types by parsing keys\n",
    "    filters = set(key.split('.')[1] for key in dico.keys())\n",
    "\n",
    "    # Iterate through each unique filter\n",
    "    for filter_type in filters:\n",
    "        # Collect the R, G, B arrays for the current filter\n",
    "        r_key = f'R.{filter_type}'\n",
    "        g_key = f'G.{filter_type}'\n",
    "        b_key = f'B.{filter_type}'\n",
    "        \n",
    "        if r_key in dico and g_key in dico and b_key in dico:\n",
    "            # Stack R, G, B arrays along a new third axis to form a (P, Q, 3) array\n",
    "            rgb_array = np.stack([dico[r_key], dico[g_key], dico[b_key]], axis=-1)\n",
    "            \n",
    "            # Add to output dictionary\n",
    "            output_dict[filter_type] = rgb_array\n",
    "    return(output_dict)\n"
   ]
  },
  {
   "cell_type": "code",
   "execution_count": 345,
   "metadata": {},
   "outputs": [],
   "source": [
    "f_0 = initialize_random_image(size=(75, 75), channels=3)\n",
    "f_0_pyr = compute_3D_wavelets_coeffs(f_0, num_scales=4, num_orientations=4)\n",
    "f_0_pyr = flatten_dict(f_0_pyr)\n",
    "f_0_pyr = from_dict_to_RGB_array(f_0_pyr)\n",
    "Y_l = from_dict_to_RGB_array(Y_l)"
   ]
  },
  {
   "cell_type": "code",
   "execution_count": 346,
   "metadata": {},
   "outputs": [],
   "source": [
    "c_l_n = {}\n",
    "for key in Y_l.keys():\n",
    "    Y_l_filter = Y_l[key].reshape(-1,3)\n",
    "    f_0_filter = f_0_pyr[key].reshape(-1,3)\n",
    "    c_l_n[key] = projection(f_0_filter, Y_l_filter)"
   ]
  },
  {
   "cell_type": "code",
   "execution_count": 351,
   "metadata": {},
   "outputs": [],
   "source": [
    "import ast\n",
    "\n",
    "def from_str_to_tuple_dict(data_dict):\n",
    "\n",
    "    # New dictionary to hold the modified keys\n",
    "    modified_dict = {}\n",
    "\n",
    "    # Iterate over the original dictionary\n",
    "    for key, value in data_dict.items():\n",
    "        # Try to convert keys that look like tuples into actual tuple types\n",
    "        try:\n",
    "            # Use ast.literal_eval to safely evaluate keys that are tuples as strings\n",
    "            evaluated_key = ast.literal_eval(key)\n",
    "            if isinstance(evaluated_key, tuple):\n",
    "                modified_dict[evaluated_key] = value\n",
    "            else:\n",
    "                modified_dict[key] = value\n",
    "        except (ValueError, SyntaxError):\n",
    "            # If the key isn't a tuple-like string, keep it as-is\n",
    "            modified_dict[key] = value\n",
    "    return(modified_dict)"
   ]
  },
  {
   "cell_type": "code",
   "execution_count": 352,
   "metadata": {},
   "outputs": [],
   "source": [
    "c_l_n = from_str_to_tuple_dict(c_l_n)"
   ]
  },
  {
   "cell_type": "code",
   "execution_count": 353,
   "metadata": {},
   "outputs": [],
   "source": [
    "dict_r = {}\n",
    "dict_g = {}\n",
    "dict_b = {}\n",
    "\n",
    "for key in c_l_n.keys():\n",
    "    size = int(np.sqrt(c_l_n[key].shape[0]))\n",
    "    dict_r[key] = c_l_n[key][:,0].reshape(size, size)\n",
    "    dict_g[key] = c_l_n[key][:,1].reshape(size, size)\n",
    "    dict_b[key] = c_l_n[key][:,2].reshape(size, size)\n"
   ]
  },
  {
   "cell_type": "code",
   "execution_count": 354,
   "metadata": {},
   "outputs": [],
   "source": [
    "pyr.pyr_coeffs = dict_r\n",
    "f_k_r = pyr.recon_pyr()\n",
    "pyr.pyr_coeffs = dict_g\n",
    "f_k_g = pyr.recon_pyr()\n",
    "pyr.pyr_coeffs = dict_b\n",
    "f_k_b = pyr.recon_pyr()"
   ]
  },
  {
   "cell_type": "code",
   "execution_count": 357,
   "metadata": {},
   "outputs": [
    {
     "data": {
      "text/plain": [
       "<matplotlib.image.AxesImage at 0x12bbb71d0>"
      ]
     },
     "execution_count": 357,
     "metadata": {},
     "output_type": "execute_result"
    },
    {
     "data": {
      "image/png": "[encoded data removed]",
      "text/plain": [
       "<Figure size 640x480 with 1 Axes>"
      ]
     },
     "metadata": {},
     "output_type": "display_data"
    }
   ],
   "source": [
    "plt.imshow(f_k_b)"
   ]
  },
  {
   "cell_type": "code",
   "execution_count": null,
   "metadata": {},
   "outputs": [],
   "source": [
    "# Saving to a Pickle file\n",
    "# with open('c_l_n.pkl', 'wb') as file:\n",
    "#     pickle.dump(flatten_dict(c_l_n), file)"
   ]
  }
 ],
 "metadata": {
  "kernelspec": {
   "display_name": "Python 3",
   "language": "python",
   "name": "python3"
  },
  "language_info": {
   "codemirror_mode": {
    "name": "ipython",
    "version": 3
   },
   "file_extension": ".py",
   "mimetype": "text/x-python",
   "name": "python",
   "nbconvert_exporter": "python",
   "pygments_lexer": "ipython3",
   "version": "3.12.0"
  }
 },
 "nbformat": 4,
 "nbformat_minor": 2
}
