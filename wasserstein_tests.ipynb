{
 "cells": [
  {
   "cell_type": "code",
   "execution_count": 185,
   "metadata": {},
   "outputs": [],
   "source": [
    "import numpy as np\n",
    "from PIL import Image\n",
    "from scipy.ndimage import gaussian_filter\n",
    "\n",
    "# Charger et convertir l'image en niveaux de gris\n",
    "img1 = Image.open('data/elephant.jpg').convert('L')\n",
    "img2 = Image.open('data/dent.jpg').convert('L')\n",
    "\n",
    "# Définir une taille commune\n",
    "new_size = (256, 256)\n",
    "\n",
    "# Redimensionner les images à la taille définie\n",
    "img1 = img1.resize(new_size)\n",
    "img2 = img2.resize(new_size)\n",
    "\n",
    "# Convertir en tableaux numpy\n",
    "img1_np = np.array(img1)/255  # Normaliser pour que les valeurs soient dans [0, 1]\n",
    "img2_np = np.array(img2)/255\n"
   ]
  },
  {
   "cell_type": "code",
   "execution_count": null,
   "metadata": {},
   "outputs": [],
   "source": [
    "#Image.fromarray(v.astype('uint8')) "
   ]
  },
  {
   "cell_type": "code",
   "execution_count": 186,
   "metadata": {},
   "outputs": [],
   "source": [
    "# Initialisation des vecteurs de probabilités\n",
    "v = np.ones_like(img1_np)\n",
    "w = np.ones_like(img2_np)\n",
    "\n",
    "# Définir les paramètres du noyau de chaleur (heat kernel)\n",
    "gamma = 1  # Paramètre de régularisation\n"
   ]
  },
  {
   "cell_type": "code",
   "execution_count": 187,
   "metadata": {},
   "outputs": [],
   "source": [
    "# Fonction de convolution avec un noyau gaussien\n",
    "def apply_heat_kernel(image, sigma):\n",
    "    return gaussian_filter(image, sigma=sigma) #renvoie le tableau\n",
    "\n",
    "# Paramètre du noyau de diffusion (dépend du paramètre de régularisation γ)\n",
    "sigma = np.sqrt(gamma / 2)\n"
   ]
  },
  {
   "cell_type": "code",
   "execution_count": 197,
   "metadata": {},
   "outputs": [
    {
     "name": "stderr",
     "output_type": "stream",
     "text": [
      "/var/folders/nk/rqbxbzbs6cx3djvmyg89hzhh0000gn/T/ipykernel_3079/1755996212.py:8: RuntimeWarning: divide by zero encountered in divide\n",
      "  w = mu1 / apply_heat_kernel(v, sigma)\n",
      "/var/folders/nk/rqbxbzbs6cx3djvmyg89hzhh0000gn/T/ipykernel_3079/1755996212.py:8: RuntimeWarning: overflow encountered in divide\n",
      "  w = mu1 / apply_heat_kernel(v, sigma)\n"
     ]
    }
   ],
   "source": [
    "# Fonction pour les itérations de Sinkhorn\n",
    "def sinkhorn_iterations(mu0, mu1, iterations=100):\n",
    "    v = np.ones_like(mu0)\n",
    "    w = np.ones_like(mu1)\n",
    "    \n",
    "    for i in range(iterations):\n",
    "        v = mu0 / apply_heat_kernel(w, sigma)\n",
    "        w = mu1 / apply_heat_kernel(v, sigma)\n",
    "    \n",
    "    return v, w\n",
    "\n",
    "# Appliquer les itérations\n",
    "mu0_flat = img1_np.ravel()\n",
    "mu1_flat = img2_np.ravel()\n",
    "v, w = sinkhorn_iterations(mu0_flat, mu1_flat)\n"
   ]
  },
  {
   "cell_type": "code",
   "execution_count": 198,
   "metadata": {},
   "outputs": [],
   "source": [
    "#Image.fromarray(v.astype('uint8'))  "
   ]
  },
  {
   "cell_type": "code",
   "execution_count": 199,
   "metadata": {},
   "outputs": [
    {
     "name": "stdout",
     "output_type": "stream",
     "text": [
      "Convolutional Wasserstein Distance: nan\n"
     ]
    },
    {
     "name": "stderr",
     "output_type": "stream",
     "text": [
      "/var/folders/nk/rqbxbzbs6cx3djvmyg89hzhh0000gn/T/ipykernel_3079/2282589170.py:2: RuntimeWarning: divide by zero encountered in log\n",
      "  return gamma * (np.sum(mu0 * np.log(v)) + np.sum(mu1 * np.log(w)))\n",
      "/var/folders/nk/rqbxbzbs6cx3djvmyg89hzhh0000gn/T/ipykernel_3079/2282589170.py:2: RuntimeWarning: invalid value encountered in multiply\n",
      "  return gamma * (np.sum(mu0 * np.log(v)) + np.sum(mu1 * np.log(w)))\n"
     ]
    }
   ],
   "source": [
    "def kl_divergence(mu0, mu1, v, w):\n",
    "    return gamma * (np.sum(mu0 * np.log(v)) + np.sum(mu1 * np.log(w)))\n",
    "\n",
    "# Calculer la divergence KL\n",
    "wasserstein_distance = kl_divergence(mu0_flat, mu1_flat, v, w)\n",
    "print(f\"Convolutional Wasserstein Distance: {wasserstein_distance}\")\n"
   ]
  }
 ],
 "metadata": {
  "kernelspec": {
   "display_name": "Python 3",
   "language": "python",
   "name": "python3"
  },
  "language_info": {
   "codemirror_mode": {
    "name": "ipython",
    "version": 3
   },
   "file_extension": ".py",
   "mimetype": "text/x-python",
   "name": "python",
   "nbconvert_exporter": "python",
   "pygments_lexer": "ipython3",
   "version": "3.12.0"
  }
 },
 "nbformat": 4,
 "nbformat_minor": 2
}
